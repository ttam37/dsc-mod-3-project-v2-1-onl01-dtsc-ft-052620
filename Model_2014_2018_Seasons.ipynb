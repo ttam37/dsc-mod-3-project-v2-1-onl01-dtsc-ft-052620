{
 "cells": [
  {
   "cell_type": "code",
   "execution_count": 101,
   "metadata": {},
   "outputs": [],
   "source": [
    "import numpy as np\n",
    "import pandas as pd\n",
    "import seaborn as sns\n",
    "import matplotlib.pyplot as plt\n",
    "\n",
    "import xgboost as xgb\n",
    "\n",
    "from sklearn.metrics import roc_curve, auc\n",
    "\n",
    "from sklearn.preprocessing import StandardScaler\n",
    "from sklearn.neighbors import KNeighborsClassifier\n",
    "from sklearn.model_selection import train_test_split, GridSearchCV\n",
    "from sklearn.ensemble import RandomForestClassifier, AdaBoostClassifier, GradientBoostingClassifier,ExtraTreesClassifier\n",
    "from sklearn.pipeline import Pipeline\n",
    "\n",
    "from sklearn.metrics import confusion_matrix,accuracy_score,precision_score,recall_score,precision_recall_curve\n",
    "from sklearn.metrics import accuracy_score, precision_score, roc_auc_score, confusion_matrix, make_scorer, recall_score, f1_score\n",
    "from sklearn.metrics import precision_recall_fscore_support,f1_score,fbeta_score\n",
    "from sklearn.metrics import make_scorer\n",
    "from sklearn.linear_model import LogisticRegression \n",
    "from imblearn.over_sampling import SMOTE\n",
    "from sklearn.metrics import classification_report\n",
    "from sklearn.tree import DecisionTreeClassifier\n",
    "from sklearn.metrics import plot_confusion_matrix\n",
    "from sklearn.metrics import confusion_matrix\n",
    "from sklearn import svm\n",
    "from sklearn import tree\n",
    "\n",
    "from myFunctions import print_metrics_test, plot_feature_importances\n",
    "\n",
    "import warnings\n",
    "warnings.filterwarnings('ignore')"
   ]
  },
  {
   "cell_type": "markdown",
   "metadata": {},
   "source": [
    "# Import Cleaned Data"
   ]
  },
  {
   "cell_type": "code",
   "execution_count": 102,
   "metadata": {},
   "outputs": [],
   "source": [
    "data = pd.read_csv('csv_files/processed_data.csv',index_col=0)"
   ]
  },
  {
   "cell_type": "code",
   "execution_count": 103,
   "metadata": {},
   "outputs": [
    {
     "data": {
      "text/html": [
       "<div>\n",
       "<style scoped>\n",
       "    .dataframe tbody tr th:only-of-type {\n",
       "        vertical-align: middle;\n",
       "    }\n",
       "\n",
       "    .dataframe tbody tr th {\n",
       "        vertical-align: top;\n",
       "    }\n",
       "\n",
       "    .dataframe thead th {\n",
       "        text-align: right;\n",
       "    }\n",
       "</style>\n",
       "<table border=\"1\" class=\"dataframe\">\n",
       "  <thead>\n",
       "    <tr style=\"text-align: right;\">\n",
       "      <th></th>\n",
       "      <th>SEASON</th>\n",
       "      <th>FG_PCT_home</th>\n",
       "      <th>FT_PCT_home</th>\n",
       "      <th>FG3_PCT_home</th>\n",
       "      <th>AST_home</th>\n",
       "      <th>REB_home</th>\n",
       "      <th>FG_PCT_away</th>\n",
       "      <th>FT_PCT_away</th>\n",
       "      <th>FG3_PCT_away</th>\n",
       "      <th>AST_away</th>\n",
       "      <th>...</th>\n",
       "      <th>BLK_home</th>\n",
       "      <th>PF_home</th>\n",
       "      <th>STL_home</th>\n",
       "      <th>TO_home</th>\n",
       "      <th>BLK_away</th>\n",
       "      <th>PF_away</th>\n",
       "      <th>STL_away</th>\n",
       "      <th>TO_away</th>\n",
       "      <th>HOME_TEAM</th>\n",
       "      <th>VISITOR_TEAM</th>\n",
       "    </tr>\n",
       "  </thead>\n",
       "  <tbody>\n",
       "    <tr>\n",
       "      <th>0</th>\n",
       "      <td>2019</td>\n",
       "      <td>0.35400</td>\n",
       "      <td>0.90000</td>\n",
       "      <td>0.22900</td>\n",
       "      <td>22.00000</td>\n",
       "      <td>47.00000</td>\n",
       "      <td>0.40200</td>\n",
       "      <td>0.76200</td>\n",
       "      <td>0.22600</td>\n",
       "      <td>20.00000</td>\n",
       "      <td>...</td>\n",
       "      <td>8.00000</td>\n",
       "      <td>18.00000</td>\n",
       "      <td>7.00000</td>\n",
       "      <td>10.00000</td>\n",
       "      <td>6.00000</td>\n",
       "      <td>11.00000</td>\n",
       "      <td>7.00000</td>\n",
       "      <td>16.00000</td>\n",
       "      <td>Hornets</td>\n",
       "      <td>Bucks</td>\n",
       "    </tr>\n",
       "    <tr>\n",
       "      <th>1</th>\n",
       "      <td>2019</td>\n",
       "      <td>0.37200</td>\n",
       "      <td>0.83300</td>\n",
       "      <td>0.35900</td>\n",
       "      <td>24.00000</td>\n",
       "      <td>39.00000</td>\n",
       "      <td>0.50600</td>\n",
       "      <td>0.75000</td>\n",
       "      <td>0.27800</td>\n",
       "      <td>26.00000</td>\n",
       "      <td>...</td>\n",
       "      <td>3.00000</td>\n",
       "      <td>22.00000</td>\n",
       "      <td>6.00000</td>\n",
       "      <td>13.00000</td>\n",
       "      <td>8.00000</td>\n",
       "      <td>22.00000</td>\n",
       "      <td>8.00000</td>\n",
       "      <td>15.00000</td>\n",
       "      <td>Hornets</td>\n",
       "      <td>Bucks</td>\n",
       "    </tr>\n",
       "    <tr>\n",
       "      <th>2</th>\n",
       "      <td>2013</td>\n",
       "      <td>0.43400</td>\n",
       "      <td>0.75000</td>\n",
       "      <td>0.58800</td>\n",
       "      <td>30.00000</td>\n",
       "      <td>43.00000</td>\n",
       "      <td>0.43300</td>\n",
       "      <td>0.94100</td>\n",
       "      <td>0.35700</td>\n",
       "      <td>29.00000</td>\n",
       "      <td>...</td>\n",
       "      <td>7.00000</td>\n",
       "      <td>17.00000</td>\n",
       "      <td>2.00000</td>\n",
       "      <td>8.00000</td>\n",
       "      <td>8.00000</td>\n",
       "      <td>23.00000</td>\n",
       "      <td>8.00000</td>\n",
       "      <td>12.00000</td>\n",
       "      <td>Hornets</td>\n",
       "      <td>Bucks</td>\n",
       "    </tr>\n",
       "    <tr>\n",
       "      <th>3</th>\n",
       "      <td>2013</td>\n",
       "      <td>0.44300</td>\n",
       "      <td>0.61300</td>\n",
       "      <td>0.20000</td>\n",
       "      <td>20.00000</td>\n",
       "      <td>54.00000</td>\n",
       "      <td>0.33300</td>\n",
       "      <td>0.75000</td>\n",
       "      <td>0.29400</td>\n",
       "      <td>17.00000</td>\n",
       "      <td>...</td>\n",
       "      <td>4.00000</td>\n",
       "      <td>17.00000</td>\n",
       "      <td>5.00000</td>\n",
       "      <td>17.00000</td>\n",
       "      <td>9.00000</td>\n",
       "      <td>22.00000</td>\n",
       "      <td>10.00000</td>\n",
       "      <td>9.00000</td>\n",
       "      <td>Hornets</td>\n",
       "      <td>Bucks</td>\n",
       "    </tr>\n",
       "    <tr>\n",
       "      <th>4</th>\n",
       "      <td>2012</td>\n",
       "      <td>0.46300</td>\n",
       "      <td>0.70800</td>\n",
       "      <td>0.44400</td>\n",
       "      <td>23.00000</td>\n",
       "      <td>52.00000</td>\n",
       "      <td>0.39100</td>\n",
       "      <td>0.66700</td>\n",
       "      <td>0.31000</td>\n",
       "      <td>23.00000</td>\n",
       "      <td>...</td>\n",
       "      <td>5.00000</td>\n",
       "      <td>18.00000</td>\n",
       "      <td>6.00000</td>\n",
       "      <td>14.00000</td>\n",
       "      <td>3.00000</td>\n",
       "      <td>20.00000</td>\n",
       "      <td>6.00000</td>\n",
       "      <td>12.00000</td>\n",
       "      <td>Hornets</td>\n",
       "      <td>Bucks</td>\n",
       "    </tr>\n",
       "  </tbody>\n",
       "</table>\n",
       "<p>5 rows × 22 columns</p>\n",
       "</div>"
      ],
      "text/plain": [
       "   SEASON  FG_PCT_home  FT_PCT_home  FG3_PCT_home  AST_home  REB_home  \\\n",
       "0    2019      0.35400      0.90000       0.22900  22.00000  47.00000   \n",
       "1    2019      0.37200      0.83300       0.35900  24.00000  39.00000   \n",
       "2    2013      0.43400      0.75000       0.58800  30.00000  43.00000   \n",
       "3    2013      0.44300      0.61300       0.20000  20.00000  54.00000   \n",
       "4    2012      0.46300      0.70800       0.44400  23.00000  52.00000   \n",
       "\n",
       "   FG_PCT_away  FT_PCT_away  FG3_PCT_away  AST_away  ...  BLK_home  PF_home  \\\n",
       "0      0.40200      0.76200       0.22600  20.00000  ...   8.00000 18.00000   \n",
       "1      0.50600      0.75000       0.27800  26.00000  ...   3.00000 22.00000   \n",
       "2      0.43300      0.94100       0.35700  29.00000  ...   7.00000 17.00000   \n",
       "3      0.33300      0.75000       0.29400  17.00000  ...   4.00000 17.00000   \n",
       "4      0.39100      0.66700       0.31000  23.00000  ...   5.00000 18.00000   \n",
       "\n",
       "   STL_home  TO_home  BLK_away  PF_away  STL_away  TO_away  HOME_TEAM  \\\n",
       "0   7.00000 10.00000   6.00000 11.00000   7.00000 16.00000    Hornets   \n",
       "1   6.00000 13.00000   8.00000 22.00000   8.00000 15.00000    Hornets   \n",
       "2   2.00000  8.00000   8.00000 23.00000   8.00000 12.00000    Hornets   \n",
       "3   5.00000 17.00000   9.00000 22.00000  10.00000  9.00000    Hornets   \n",
       "4   6.00000 14.00000   3.00000 20.00000   6.00000 12.00000    Hornets   \n",
       "\n",
       "   VISITOR_TEAM  \n",
       "0         Bucks  \n",
       "1         Bucks  \n",
       "2         Bucks  \n",
       "3         Bucks  \n",
       "4         Bucks  \n",
       "\n",
       "[5 rows x 22 columns]"
      ]
     },
     "execution_count": 103,
     "metadata": {},
     "output_type": "execute_result"
    }
   ],
   "source": [
    "# removing point features\n",
    "data = data.drop(['PTS_home','PTS_away'],axis=1)\n",
    "data.head()"
   ]
  },
  {
   "cell_type": "markdown",
   "metadata": {},
   "source": [
    "# Split Train and Test Data"
   ]
  },
  {
   "cell_type": "code",
   "execution_count": 104,
   "metadata": {},
   "outputs": [],
   "source": [
    "filtered_seasons = [2014,2015,2016,2017,2018]\n",
    "\n",
    "# split data into training(2014 - 2018 games) and test data(2019 games)\n",
    "season_2014_2018 = data[data['SEASON'].isin(filtered_seasons)].drop('SEASON',axis=1)\n",
    "season_2019 = data[data['SEASON'] == 2019].drop('SEASON',axis=1)"
   ]
  },
  {
   "cell_type": "code",
   "execution_count": 105,
   "metadata": {},
   "outputs": [],
   "source": [
    "# split data into features and target for training data\n",
    "X_train = season_2014_2018.drop('HOME_TEAM_WINS',axis=1).drop(['HOME_TEAM','VISITOR_TEAM'],axis=1)\n",
    "y_train = season_2014_2018['HOME_TEAM_WINS']"
   ]
  },
  {
   "cell_type": "code",
   "execution_count": 106,
   "metadata": {},
   "outputs": [],
   "source": [
    "# split data into features and target for test data\n",
    "X_test = season_2019.drop('HOME_TEAM_WINS',axis=1).drop(['HOME_TEAM','VISITOR_TEAM'],axis=1)\n",
    "y_test = season_2019['HOME_TEAM_WINS']"
   ]
  },
  {
   "cell_type": "code",
   "execution_count": 107,
   "metadata": {},
   "outputs": [
    {
     "data": {
      "text/html": [
       "<div>\n",
       "<style scoped>\n",
       "    .dataframe tbody tr th:only-of-type {\n",
       "        vertical-align: middle;\n",
       "    }\n",
       "\n",
       "    .dataframe tbody tr th {\n",
       "        vertical-align: top;\n",
       "    }\n",
       "\n",
       "    .dataframe thead th {\n",
       "        text-align: right;\n",
       "    }\n",
       "</style>\n",
       "<table border=\"1\" class=\"dataframe\">\n",
       "  <thead>\n",
       "    <tr style=\"text-align: right;\">\n",
       "      <th></th>\n",
       "      <th>FG_PCT_home</th>\n",
       "      <th>FT_PCT_home</th>\n",
       "      <th>FG3_PCT_home</th>\n",
       "      <th>AST_home</th>\n",
       "      <th>REB_home</th>\n",
       "      <th>FG_PCT_away</th>\n",
       "      <th>FT_PCT_away</th>\n",
       "      <th>FG3_PCT_away</th>\n",
       "      <th>AST_away</th>\n",
       "      <th>REB_away</th>\n",
       "      <th>BLK_home</th>\n",
       "      <th>PF_home</th>\n",
       "      <th>STL_home</th>\n",
       "      <th>TO_home</th>\n",
       "      <th>BLK_away</th>\n",
       "      <th>PF_away</th>\n",
       "      <th>STL_away</th>\n",
       "      <th>TO_away</th>\n",
       "    </tr>\n",
       "  </thead>\n",
       "  <tbody>\n",
       "    <tr>\n",
       "      <th>0</th>\n",
       "      <td>0.35400</td>\n",
       "      <td>0.90000</td>\n",
       "      <td>0.22900</td>\n",
       "      <td>22.00000</td>\n",
       "      <td>47.00000</td>\n",
       "      <td>0.40200</td>\n",
       "      <td>0.76200</td>\n",
       "      <td>0.22600</td>\n",
       "      <td>20.00000</td>\n",
       "      <td>61.00000</td>\n",
       "      <td>8.00000</td>\n",
       "      <td>18.00000</td>\n",
       "      <td>7.00000</td>\n",
       "      <td>10.00000</td>\n",
       "      <td>6.00000</td>\n",
       "      <td>11.00000</td>\n",
       "      <td>7.00000</td>\n",
       "      <td>16.00000</td>\n",
       "    </tr>\n",
       "    <tr>\n",
       "      <th>1</th>\n",
       "      <td>0.37200</td>\n",
       "      <td>0.83300</td>\n",
       "      <td>0.35900</td>\n",
       "      <td>24.00000</td>\n",
       "      <td>39.00000</td>\n",
       "      <td>0.50600</td>\n",
       "      <td>0.75000</td>\n",
       "      <td>0.27800</td>\n",
       "      <td>26.00000</td>\n",
       "      <td>53.00000</td>\n",
       "      <td>3.00000</td>\n",
       "      <td>22.00000</td>\n",
       "      <td>6.00000</td>\n",
       "      <td>13.00000</td>\n",
       "      <td>8.00000</td>\n",
       "      <td>22.00000</td>\n",
       "      <td>8.00000</td>\n",
       "      <td>15.00000</td>\n",
       "    </tr>\n",
       "    <tr>\n",
       "      <th>50</th>\n",
       "      <td>0.35900</td>\n",
       "      <td>0.86400</td>\n",
       "      <td>0.30200</td>\n",
       "      <td>20.00000</td>\n",
       "      <td>47.00000</td>\n",
       "      <td>0.53800</td>\n",
       "      <td>0.66700</td>\n",
       "      <td>0.35900</td>\n",
       "      <td>24.00000</td>\n",
       "      <td>57.00000</td>\n",
       "      <td>4.00000</td>\n",
       "      <td>23.00000</td>\n",
       "      <td>12.00000</td>\n",
       "      <td>15.00000</td>\n",
       "      <td>6.00000</td>\n",
       "      <td>20.00000</td>\n",
       "      <td>8.00000</td>\n",
       "      <td>17.00000</td>\n",
       "    </tr>\n",
       "    <tr>\n",
       "      <th>70</th>\n",
       "      <td>0.41800</td>\n",
       "      <td>0.80600</td>\n",
       "      <td>0.41900</td>\n",
       "      <td>21.00000</td>\n",
       "      <td>54.00000</td>\n",
       "      <td>0.42900</td>\n",
       "      <td>0.79400</td>\n",
       "      <td>0.36700</td>\n",
       "      <td>18.00000</td>\n",
       "      <td>54.00000</td>\n",
       "      <td>3.00000</td>\n",
       "      <td>28.00000</td>\n",
       "      <td>4.00000</td>\n",
       "      <td>19.00000</td>\n",
       "      <td>11.00000</td>\n",
       "      <td>28.00000</td>\n",
       "      <td>7.00000</td>\n",
       "      <td>15.00000</td>\n",
       "    </tr>\n",
       "    <tr>\n",
       "      <th>94</th>\n",
       "      <td>0.45800</td>\n",
       "      <td>0.80000</td>\n",
       "      <td>0.28600</td>\n",
       "      <td>26.00000</td>\n",
       "      <td>45.00000</td>\n",
       "      <td>0.49500</td>\n",
       "      <td>0.76700</td>\n",
       "      <td>0.25600</td>\n",
       "      <td>29.00000</td>\n",
       "      <td>52.00000</td>\n",
       "      <td>3.00000</td>\n",
       "      <td>24.00000</td>\n",
       "      <td>8.00000</td>\n",
       "      <td>16.00000</td>\n",
       "      <td>4.00000</td>\n",
       "      <td>12.00000</td>\n",
       "      <td>11.00000</td>\n",
       "      <td>11.00000</td>\n",
       "    </tr>\n",
       "  </tbody>\n",
       "</table>\n",
       "</div>"
      ],
      "text/plain": [
       "    FG_PCT_home  FT_PCT_home  FG3_PCT_home  AST_home  REB_home  FG_PCT_away  \\\n",
       "0       0.35400      0.90000       0.22900  22.00000  47.00000      0.40200   \n",
       "1       0.37200      0.83300       0.35900  24.00000  39.00000      0.50600   \n",
       "50      0.35900      0.86400       0.30200  20.00000  47.00000      0.53800   \n",
       "70      0.41800      0.80600       0.41900  21.00000  54.00000      0.42900   \n",
       "94      0.45800      0.80000       0.28600  26.00000  45.00000      0.49500   \n",
       "\n",
       "    FT_PCT_away  FG3_PCT_away  AST_away  REB_away  BLK_home  PF_home  \\\n",
       "0       0.76200       0.22600  20.00000  61.00000   8.00000 18.00000   \n",
       "1       0.75000       0.27800  26.00000  53.00000   3.00000 22.00000   \n",
       "50      0.66700       0.35900  24.00000  57.00000   4.00000 23.00000   \n",
       "70      0.79400       0.36700  18.00000  54.00000   3.00000 28.00000   \n",
       "94      0.76700       0.25600  29.00000  52.00000   3.00000 24.00000   \n",
       "\n",
       "    STL_home  TO_home  BLK_away  PF_away  STL_away  TO_away  \n",
       "0    7.00000 10.00000   6.00000 11.00000   7.00000 16.00000  \n",
       "1    6.00000 13.00000   8.00000 22.00000   8.00000 15.00000  \n",
       "50  12.00000 15.00000   6.00000 20.00000   8.00000 17.00000  \n",
       "70   4.00000 19.00000  11.00000 28.00000   7.00000 15.00000  \n",
       "94   8.00000 16.00000   4.00000 12.00000  11.00000 11.00000  "
      ]
     },
     "execution_count": 107,
     "metadata": {},
     "output_type": "execute_result"
    }
   ],
   "source": [
    "X_test.head()"
   ]
  },
  {
   "cell_type": "code",
   "execution_count": 108,
   "metadata": {},
   "outputs": [
    {
     "data": {
      "text/plain": [
       "0     0\n",
       "1     0\n",
       "50    0\n",
       "70    0\n",
       "94    0\n",
       "Name: HOME_TEAM_WINS, dtype: int64"
      ]
     },
     "execution_count": 108,
     "metadata": {},
     "output_type": "execute_result"
    }
   ],
   "source": [
    "y_test.head()"
   ]
  },
  {
   "cell_type": "markdown",
   "metadata": {},
   "source": [
    "# Descriptive Statistics"
   ]
  },
  {
   "cell_type": "markdown",
   "metadata": {},
   "source": [
    "## Home vs Away Stats"
   ]
  },
  {
   "cell_type": "code",
   "execution_count": 109,
   "metadata": {},
   "outputs": [
    {
     "data": {
      "text/html": [
       "<div>\n",
       "<style scoped>\n",
       "    .dataframe tbody tr th:only-of-type {\n",
       "        vertical-align: middle;\n",
       "    }\n",
       "\n",
       "    .dataframe tbody tr th {\n",
       "        vertical-align: top;\n",
       "    }\n",
       "\n",
       "    .dataframe thead th {\n",
       "        text-align: right;\n",
       "    }\n",
       "</style>\n",
       "<table border=\"1\" class=\"dataframe\">\n",
       "  <thead>\n",
       "    <tr style=\"text-align: right;\">\n",
       "      <th></th>\n",
       "      <th>FG_PCT_home</th>\n",
       "      <th>FT_PCT_home</th>\n",
       "      <th>FG3_PCT_home</th>\n",
       "      <th>AST_home</th>\n",
       "      <th>REB_home</th>\n",
       "      <th>FG_PCT_away</th>\n",
       "      <th>FT_PCT_away</th>\n",
       "      <th>FG3_PCT_away</th>\n",
       "      <th>AST_away</th>\n",
       "      <th>REB_away</th>\n",
       "      <th>HOME_TEAM_WINS</th>\n",
       "      <th>BLK_home</th>\n",
       "      <th>PF_home</th>\n",
       "      <th>STL_home</th>\n",
       "      <th>TO_home</th>\n",
       "      <th>BLK_away</th>\n",
       "      <th>PF_away</th>\n",
       "      <th>STL_away</th>\n",
       "      <th>TO_away</th>\n",
       "    </tr>\n",
       "  </thead>\n",
       "  <tbody>\n",
       "    <tr>\n",
       "      <th>count</th>\n",
       "      <td>6999.00000</td>\n",
       "      <td>6999.00000</td>\n",
       "      <td>6999.00000</td>\n",
       "      <td>6999.00000</td>\n",
       "      <td>6999.00000</td>\n",
       "      <td>6999.00000</td>\n",
       "      <td>6999.00000</td>\n",
       "      <td>6999.00000</td>\n",
       "      <td>6999.00000</td>\n",
       "      <td>6999.00000</td>\n",
       "      <td>6999.00000</td>\n",
       "      <td>6999.00000</td>\n",
       "      <td>6999.00000</td>\n",
       "      <td>6999.00000</td>\n",
       "      <td>6999.00000</td>\n",
       "      <td>6999.00000</td>\n",
       "      <td>6999.00000</td>\n",
       "      <td>6999.00000</td>\n",
       "      <td>6999.00000</td>\n",
       "    </tr>\n",
       "    <tr>\n",
       "      <th>mean</th>\n",
       "      <td>0.46044</td>\n",
       "      <td>0.76260</td>\n",
       "      <td>0.35732</td>\n",
       "      <td>23.39434</td>\n",
       "      <td>44.45106</td>\n",
       "      <td>0.44994</td>\n",
       "      <td>0.76081</td>\n",
       "      <td>0.34901</td>\n",
       "      <td>22.23575</td>\n",
       "      <td>43.30133</td>\n",
       "      <td>0.58408</td>\n",
       "      <td>5.05501</td>\n",
       "      <td>20.22589</td>\n",
       "      <td>7.76954</td>\n",
       "      <td>13.66867</td>\n",
       "      <td>4.65609</td>\n",
       "      <td>20.82626</td>\n",
       "      <td>7.77425</td>\n",
       "      <td>13.86612</td>\n",
       "    </tr>\n",
       "    <tr>\n",
       "      <th>std</th>\n",
       "      <td>0.05484</td>\n",
       "      <td>0.10237</td>\n",
       "      <td>0.09668</td>\n",
       "      <td>5.20370</td>\n",
       "      <td>6.50199</td>\n",
       "      <td>0.05416</td>\n",
       "      <td>0.10503</td>\n",
       "      <td>0.09494</td>\n",
       "      <td>5.08306</td>\n",
       "      <td>6.46811</td>\n",
       "      <td>0.49291</td>\n",
       "      <td>2.59062</td>\n",
       "      <td>4.42375</td>\n",
       "      <td>2.98111</td>\n",
       "      <td>3.96315</td>\n",
       "      <td>2.42796</td>\n",
       "      <td>4.51568</td>\n",
       "      <td>2.96269</td>\n",
       "      <td>4.02037</td>\n",
       "    </tr>\n",
       "    <tr>\n",
       "      <th>min</th>\n",
       "      <td>0.28200</td>\n",
       "      <td>0.14300</td>\n",
       "      <td>0.00000</td>\n",
       "      <td>9.00000</td>\n",
       "      <td>22.00000</td>\n",
       "      <td>0.27100</td>\n",
       "      <td>0.17600</td>\n",
       "      <td>0.00000</td>\n",
       "      <td>6.00000</td>\n",
       "      <td>20.00000</td>\n",
       "      <td>0.00000</td>\n",
       "      <td>0.00000</td>\n",
       "      <td>8.00000</td>\n",
       "      <td>0.00000</td>\n",
       "      <td>2.00000</td>\n",
       "      <td>0.00000</td>\n",
       "      <td>7.00000</td>\n",
       "      <td>0.00000</td>\n",
       "      <td>3.00000</td>\n",
       "    </tr>\n",
       "    <tr>\n",
       "      <th>25%</th>\n",
       "      <td>0.42200</td>\n",
       "      <td>0.70000</td>\n",
       "      <td>0.29400</td>\n",
       "      <td>20.00000</td>\n",
       "      <td>40.00000</td>\n",
       "      <td>0.41300</td>\n",
       "      <td>0.69600</td>\n",
       "      <td>0.28600</td>\n",
       "      <td>19.00000</td>\n",
       "      <td>39.00000</td>\n",
       "      <td>0.00000</td>\n",
       "      <td>3.00000</td>\n",
       "      <td>17.00000</td>\n",
       "      <td>6.00000</td>\n",
       "      <td>11.00000</td>\n",
       "      <td>3.00000</td>\n",
       "      <td>18.00000</td>\n",
       "      <td>6.00000</td>\n",
       "      <td>11.00000</td>\n",
       "    </tr>\n",
       "    <tr>\n",
       "      <th>50%</th>\n",
       "      <td>0.45900</td>\n",
       "      <td>0.76900</td>\n",
       "      <td>0.35500</td>\n",
       "      <td>23.00000</td>\n",
       "      <td>44.00000</td>\n",
       "      <td>0.44900</td>\n",
       "      <td>0.76700</td>\n",
       "      <td>0.34800</td>\n",
       "      <td>22.00000</td>\n",
       "      <td>43.00000</td>\n",
       "      <td>1.00000</td>\n",
       "      <td>5.00000</td>\n",
       "      <td>20.00000</td>\n",
       "      <td>8.00000</td>\n",
       "      <td>13.00000</td>\n",
       "      <td>4.00000</td>\n",
       "      <td>21.00000</td>\n",
       "      <td>8.00000</td>\n",
       "      <td>14.00000</td>\n",
       "    </tr>\n",
       "    <tr>\n",
       "      <th>75%</th>\n",
       "      <td>0.50000</td>\n",
       "      <td>0.83300</td>\n",
       "      <td>0.41900</td>\n",
       "      <td>27.00000</td>\n",
       "      <td>49.00000</td>\n",
       "      <td>0.48600</td>\n",
       "      <td>0.83300</td>\n",
       "      <td>0.41200</td>\n",
       "      <td>26.00000</td>\n",
       "      <td>47.00000</td>\n",
       "      <td>1.00000</td>\n",
       "      <td>7.00000</td>\n",
       "      <td>23.00000</td>\n",
       "      <td>10.00000</td>\n",
       "      <td>16.00000</td>\n",
       "      <td>6.00000</td>\n",
       "      <td>24.00000</td>\n",
       "      <td>10.00000</td>\n",
       "      <td>16.00000</td>\n",
       "    </tr>\n",
       "    <tr>\n",
       "      <th>max</th>\n",
       "      <td>0.68400</td>\n",
       "      <td>1.00000</td>\n",
       "      <td>0.84200</td>\n",
       "      <td>47.00000</td>\n",
       "      <td>72.00000</td>\n",
       "      <td>0.66700</td>\n",
       "      <td>1.00000</td>\n",
       "      <td>0.78300</td>\n",
       "      <td>46.00000</td>\n",
       "      <td>81.00000</td>\n",
       "      <td>1.00000</td>\n",
       "      <td>19.00000</td>\n",
       "      <td>41.00000</td>\n",
       "      <td>21.00000</td>\n",
       "      <td>32.00000</td>\n",
       "      <td>15.00000</td>\n",
       "      <td>45.00000</td>\n",
       "      <td>21.00000</td>\n",
       "      <td>33.00000</td>\n",
       "    </tr>\n",
       "  </tbody>\n",
       "</table>\n",
       "</div>"
      ],
      "text/plain": [
       "       FG_PCT_home  FT_PCT_home  FG3_PCT_home   AST_home   REB_home  \\\n",
       "count   6999.00000   6999.00000    6999.00000 6999.00000 6999.00000   \n",
       "mean       0.46044      0.76260       0.35732   23.39434   44.45106   \n",
       "std        0.05484      0.10237       0.09668    5.20370    6.50199   \n",
       "min        0.28200      0.14300       0.00000    9.00000   22.00000   \n",
       "25%        0.42200      0.70000       0.29400   20.00000   40.00000   \n",
       "50%        0.45900      0.76900       0.35500   23.00000   44.00000   \n",
       "75%        0.50000      0.83300       0.41900   27.00000   49.00000   \n",
       "max        0.68400      1.00000       0.84200   47.00000   72.00000   \n",
       "\n",
       "       FG_PCT_away  FT_PCT_away  FG3_PCT_away   AST_away   REB_away  \\\n",
       "count   6999.00000   6999.00000    6999.00000 6999.00000 6999.00000   \n",
       "mean       0.44994      0.76081       0.34901   22.23575   43.30133   \n",
       "std        0.05416      0.10503       0.09494    5.08306    6.46811   \n",
       "min        0.27100      0.17600       0.00000    6.00000   20.00000   \n",
       "25%        0.41300      0.69600       0.28600   19.00000   39.00000   \n",
       "50%        0.44900      0.76700       0.34800   22.00000   43.00000   \n",
       "75%        0.48600      0.83300       0.41200   26.00000   47.00000   \n",
       "max        0.66700      1.00000       0.78300   46.00000   81.00000   \n",
       "\n",
       "       HOME_TEAM_WINS   BLK_home    PF_home   STL_home    TO_home   BLK_away  \\\n",
       "count      6999.00000 6999.00000 6999.00000 6999.00000 6999.00000 6999.00000   \n",
       "mean          0.58408    5.05501   20.22589    7.76954   13.66867    4.65609   \n",
       "std           0.49291    2.59062    4.42375    2.98111    3.96315    2.42796   \n",
       "min           0.00000    0.00000    8.00000    0.00000    2.00000    0.00000   \n",
       "25%           0.00000    3.00000   17.00000    6.00000   11.00000    3.00000   \n",
       "50%           1.00000    5.00000   20.00000    8.00000   13.00000    4.00000   \n",
       "75%           1.00000    7.00000   23.00000   10.00000   16.00000    6.00000   \n",
       "max           1.00000   19.00000   41.00000   21.00000   32.00000   15.00000   \n",
       "\n",
       "         PF_away   STL_away    TO_away  \n",
       "count 6999.00000 6999.00000 6999.00000  \n",
       "mean    20.82626    7.77425   13.86612  \n",
       "std      4.51568    2.96269    4.02037  \n",
       "min      7.00000    0.00000    3.00000  \n",
       "25%     18.00000    6.00000   11.00000  \n",
       "50%     21.00000    8.00000   14.00000  \n",
       "75%     24.00000   10.00000   16.00000  \n",
       "max     45.00000   21.00000   33.00000  "
      ]
     },
     "execution_count": 109,
     "metadata": {},
     "output_type": "execute_result"
    }
   ],
   "source": [
    "pd.set_option('display.float_format', lambda x: '%.5f' % x)\n",
    "season_2014_2018.describe()"
   ]
  },
  {
   "cell_type": "markdown",
   "metadata": {},
   "source": [
    "Based on the descriptive statistics above:\n",
    "* every average stat at home is better than average stat away\n",
    "    * REB_home (44.45) > REB_away (43.30)\n",
    "    * AST_home (23.39) > AST_away (22.23)\n",
    "    * FG_PCT_home (0.4604) > FG_PCT_away (0.4499)\n",
    "    * FT_PCT_home (0.7626) > FT_PCT_away (0.7608)\n",
    "    * FG3_PCT_home (0.3573) > FG3_PCT_away (0.3490)"
   ]
  },
  {
   "cell_type": "markdown",
   "metadata": {},
   "source": [
    "# Multicollinearity"
   ]
  },
  {
   "cell_type": "code",
   "execution_count": 110,
   "metadata": {},
   "outputs": [
    {
     "data": {
      "image/png": "[encoded data removed]",
      "text/plain": [
       "<Figure size 1080x576 with 2 Axes>"
      ]
     },
     "metadata": {
      "needs_background": "light"
     },
     "output_type": "display_data"
    }
   ],
   "source": [
    "plt.figure(figsize = (15, 8))\n",
    "sns.heatmap(abs(data.drop('SEASON',axis=1).corr())> 0.70, \n",
    "            mask=np.triu(np.ones_like(data.drop('SEASON',axis=1).corr(),dtype=np.bool)),\n",
    "            cmap = sns.diverging_palette(220,10,as_cmap=True),\n",
    "           vmax=1,vmin=-1,center=0);"
   ]
  },
  {
   "cell_type": "markdown",
   "metadata": {},
   "source": [
    "Steals and Turnovers are expected to be correlated with each other. If a team makes a steal, the opposing team will be marked with a turnover."
   ]
  },
  {
   "cell_type": "markdown",
   "metadata": {},
   "source": [
    "# Normalize Data"
   ]
  },
  {
   "cell_type": "code",
   "execution_count": 111,
   "metadata": {},
   "outputs": [
    {
     "data": {
      "text/html": [
       "<div>\n",
       "<style scoped>\n",
       "    .dataframe tbody tr th:only-of-type {\n",
       "        vertical-align: middle;\n",
       "    }\n",
       "\n",
       "    .dataframe tbody tr th {\n",
       "        vertical-align: top;\n",
       "    }\n",
       "\n",
       "    .dataframe thead th {\n",
       "        text-align: right;\n",
       "    }\n",
       "</style>\n",
       "<table border=\"1\" class=\"dataframe\">\n",
       "  <thead>\n",
       "    <tr style=\"text-align: right;\">\n",
       "      <th></th>\n",
       "      <th>FG_PCT_home</th>\n",
       "      <th>FT_PCT_home</th>\n",
       "      <th>FG3_PCT_home</th>\n",
       "      <th>AST_home</th>\n",
       "      <th>REB_home</th>\n",
       "      <th>FG_PCT_away</th>\n",
       "      <th>FT_PCT_away</th>\n",
       "      <th>FG3_PCT_away</th>\n",
       "      <th>AST_away</th>\n",
       "      <th>REB_away</th>\n",
       "      <th>BLK_home</th>\n",
       "      <th>PF_home</th>\n",
       "      <th>STL_home</th>\n",
       "      <th>TO_home</th>\n",
       "      <th>BLK_away</th>\n",
       "      <th>PF_away</th>\n",
       "      <th>STL_away</th>\n",
       "      <th>TO_away</th>\n",
       "    </tr>\n",
       "  </thead>\n",
       "  <tbody>\n",
       "    <tr>\n",
       "      <th>0</th>\n",
       "      <td>0.23352</td>\n",
       "      <td>0.83333</td>\n",
       "      <td>0.23029</td>\n",
       "      <td>0.34375</td>\n",
       "      <td>0.52381</td>\n",
       "      <td>0.25683</td>\n",
       "      <td>0.58319</td>\n",
       "      <td>0.22526</td>\n",
       "      <td>0.33333</td>\n",
       "      <td>0.89474</td>\n",
       "      <td>0.40000</td>\n",
       "      <td>0.41379</td>\n",
       "      <td>0.38889</td>\n",
       "      <td>0.26923</td>\n",
       "      <td>0.42857</td>\n",
       "      <td>0.04000</td>\n",
       "      <td>0.38889</td>\n",
       "      <td>0.48148</td>\n",
       "    </tr>\n",
       "    <tr>\n",
       "      <th>1</th>\n",
       "      <td>0.28297</td>\n",
       "      <td>0.72167</td>\n",
       "      <td>0.50000</td>\n",
       "      <td>0.40625</td>\n",
       "      <td>0.33333</td>\n",
       "      <td>0.54098</td>\n",
       "      <td>0.56217</td>\n",
       "      <td>0.31399</td>\n",
       "      <td>0.53333</td>\n",
       "      <td>0.68421</td>\n",
       "      <td>0.15000</td>\n",
       "      <td>0.55172</td>\n",
       "      <td>0.33333</td>\n",
       "      <td>0.38462</td>\n",
       "      <td>0.57143</td>\n",
       "      <td>0.48000</td>\n",
       "      <td>0.44444</td>\n",
       "      <td>0.44444</td>\n",
       "    </tr>\n",
       "    <tr>\n",
       "      <th>50</th>\n",
       "      <td>0.24725</td>\n",
       "      <td>0.77333</td>\n",
       "      <td>0.38174</td>\n",
       "      <td>0.28125</td>\n",
       "      <td>0.52381</td>\n",
       "      <td>0.62842</td>\n",
       "      <td>0.41681</td>\n",
       "      <td>0.45222</td>\n",
       "      <td>0.46667</td>\n",
       "      <td>0.78947</td>\n",
       "      <td>0.20000</td>\n",
       "      <td>0.58621</td>\n",
       "      <td>0.66667</td>\n",
       "      <td>0.46154</td>\n",
       "      <td>0.42857</td>\n",
       "      <td>0.40000</td>\n",
       "      <td>0.44444</td>\n",
       "      <td>0.51852</td>\n",
       "    </tr>\n",
       "    <tr>\n",
       "      <th>70</th>\n",
       "      <td>0.40934</td>\n",
       "      <td>0.67667</td>\n",
       "      <td>0.62448</td>\n",
       "      <td>0.31250</td>\n",
       "      <td>0.69048</td>\n",
       "      <td>0.33060</td>\n",
       "      <td>0.63923</td>\n",
       "      <td>0.46587</td>\n",
       "      <td>0.26667</td>\n",
       "      <td>0.71053</td>\n",
       "      <td>0.15000</td>\n",
       "      <td>0.75862</td>\n",
       "      <td>0.22222</td>\n",
       "      <td>0.61538</td>\n",
       "      <td>0.78571</td>\n",
       "      <td>0.72000</td>\n",
       "      <td>0.38889</td>\n",
       "      <td>0.44444</td>\n",
       "    </tr>\n",
       "    <tr>\n",
       "      <th>94</th>\n",
       "      <td>0.51923</td>\n",
       "      <td>0.66667</td>\n",
       "      <td>0.34855</td>\n",
       "      <td>0.46875</td>\n",
       "      <td>0.47619</td>\n",
       "      <td>0.51093</td>\n",
       "      <td>0.59194</td>\n",
       "      <td>0.27645</td>\n",
       "      <td>0.63333</td>\n",
       "      <td>0.65789</td>\n",
       "      <td>0.15000</td>\n",
       "      <td>0.62069</td>\n",
       "      <td>0.44444</td>\n",
       "      <td>0.50000</td>\n",
       "      <td>0.28571</td>\n",
       "      <td>0.08000</td>\n",
       "      <td>0.61111</td>\n",
       "      <td>0.29630</td>\n",
       "    </tr>\n",
       "  </tbody>\n",
       "</table>\n",
       "</div>"
      ],
      "text/plain": [
       "    FG_PCT_home  FT_PCT_home  FG3_PCT_home  AST_home  REB_home  FG_PCT_away  \\\n",
       "0       0.23352      0.83333       0.23029   0.34375   0.52381      0.25683   \n",
       "1       0.28297      0.72167       0.50000   0.40625   0.33333      0.54098   \n",
       "50      0.24725      0.77333       0.38174   0.28125   0.52381      0.62842   \n",
       "70      0.40934      0.67667       0.62448   0.31250   0.69048      0.33060   \n",
       "94      0.51923      0.66667       0.34855   0.46875   0.47619      0.51093   \n",
       "\n",
       "    FT_PCT_away  FG3_PCT_away  AST_away  REB_away  BLK_home  PF_home  \\\n",
       "0       0.58319       0.22526   0.33333   0.89474   0.40000  0.41379   \n",
       "1       0.56217       0.31399   0.53333   0.68421   0.15000  0.55172   \n",
       "50      0.41681       0.45222   0.46667   0.78947   0.20000  0.58621   \n",
       "70      0.63923       0.46587   0.26667   0.71053   0.15000  0.75862   \n",
       "94      0.59194       0.27645   0.63333   0.65789   0.15000  0.62069   \n",
       "\n",
       "    STL_home  TO_home  BLK_away  PF_away  STL_away  TO_away  \n",
       "0    0.38889  0.26923   0.42857  0.04000   0.38889  0.48148  \n",
       "1    0.33333  0.38462   0.57143  0.48000   0.44444  0.44444  \n",
       "50   0.66667  0.46154   0.42857  0.40000   0.44444  0.51852  \n",
       "70   0.22222  0.61538   0.78571  0.72000   0.38889  0.44444  \n",
       "94   0.44444  0.50000   0.28571  0.08000   0.61111  0.29630  "
      ]
     },
     "execution_count": 111,
     "metadata": {},
     "output_type": "execute_result"
    }
   ],
   "source": [
    "# normalize training data\n",
    "X_train = X_train.apply(lambda x : (x - x.min()) /(x.max() - x.min()), axis=0)\n",
    "X_train.head()\n",
    "\n",
    "# normalize testing data\n",
    "X_test = X_test.apply(lambda x : (x - x.min()) /(x.max() - x.min()), axis=0)\n",
    "X_test.head()"
   ]
  },
  {
   "cell_type": "code",
   "execution_count": 112,
   "metadata": {},
   "outputs": [
    {
     "data": {
      "image/png": "[encoded data removed]",
      "text/plain": [
       "<Figure size 1080x360 with 2 Axes>"
      ]
     },
     "metadata": {
      "needs_background": "light"
     },
     "output_type": "display_data"
    }
   ],
   "source": [
    "fig,ax =plt.subplots(1,2,figsize=(15,5))\n",
    "# plt.subplots_adjust(hspace=0.4, wspace=1)\n",
    "sns.countplot(x='HOME_TEAM_WINS',data=pd.DataFrame(y_train), ax=ax[0]).set_title('Training Data')\n",
    "sns.countplot(x='HOME_TEAM_WINS',data=pd.DataFrame(y_test), ax=ax[1]).set_title('Testing Data')\n",
    "fig.show()"
   ]
  },
  {
   "cell_type": "markdown",
   "metadata": {},
   "source": [
    "# Logistic Regression\n",
    "\n",
    "Logistic Regression is a Machine Learning classification algorithm that is used to predict the probability of a categorical dependent variable. The model outputs the probability (a number between 0 and 1) for a given dependent value and classifies the value as either binary number 0 or 1."
   ]
  },
  {
   "cell_type": "code",
   "execution_count": 113,
   "metadata": {},
   "outputs": [],
   "source": [
    "# logistic regression classifier\n",
    "logmodel = LogisticRegression()\n",
    "# fit the model according to the given training data: features and labels\n",
    "logmodel.fit(X_train,y_train)\n",
    "\n",
    "# predict class labels for samples in X_train\n",
    "y_hat_train = logmodel.predict(X_train)\n",
    "# predict class labels for samples in X_test\n",
    "y_hat_test = logmodel.predict(X_test)\n",
    "\n",
    "# roc curve - auc train\n",
    "train_fpr_logmodel, train_tpr_logmodel, train_thresholds_logmodel = roc_curve(y_train, y_hat_train)\n",
    "# roc curve - auc test\n",
    "test_fpr_logmodel, test_tpr_logmodel, test_thresholds_logmodel = roc_curve(y_test, y_hat_test)\n",
    "\n",
    "# append classification results\n",
    "logmodel_results = [logmodel.__class__,accuracy_score(y_test, y_hat_test),roc_auc_score(y_test, y_hat_test)]\n",
    "alg = pd.DataFrame([logmodel_results])"
   ]
  },
  {
   "cell_type": "code",
   "execution_count": 114,
   "metadata": {},
   "outputs": [
    {
     "data": {
      "text/plain": [
       "array([[0.93060766, 0.06939234],\n",
       "       [0.98355375, 0.01644625],\n",
       "       [0.99672616, 0.00327384],\n",
       "       ...,\n",
       "       [0.86525123, 0.13474877],\n",
       "       [0.95057328, 0.04942672],\n",
       "       [0.34131034, 0.65868966]])"
      ]
     },
     "execution_count": 114,
     "metadata": {},
     "output_type": "execute_result"
    }
   ],
   "source": [
    "# actual probability that a data point belongs to a given class\n",
    "logmodel.predict_proba(X_test)"
   ]
  },
  {
   "cell_type": "code",
   "execution_count": 115,
   "metadata": {},
   "outputs": [
    {
     "data": {
      "image/png": "[encoded data removed]",
      "text/plain": [
       "<Figure size 720x360 with 2 Axes>"
      ]
     },
     "metadata": {
      "needs_background": "light"
     },
     "output_type": "display_data"
    },
    {
     "data": {
      "image/png": "[encoded data removed]",
      "text/plain": [
       "<Figure size 720x360 with 2 Axes>"
      ]
     },
     "metadata": {
      "needs_background": "light"
     },
     "output_type": "display_data"
    }
   ],
   "source": [
    "# confusion matrix visualization for train data\n",
    "fig, ax = plt.subplots(figsize=(10,5))\n",
    "plot_confusion_matrix(logmodel, X_train, y_train,cmap=plt.cm.Blues,ax=ax)\n",
    "plt.title('Logistic Regression (Train Data)')\n",
    "plt.show();\n",
    "\n",
    "# confusion matrix visualization for test data\n",
    "fig, ax = plt.subplots(figsize=(10,5))\n",
    "plot_confusion_matrix(logmodel, X_test, y_test,cmap=plt.cm.Blues,ax=ax)\n",
    "plt.title('Logistic Regression (Test Data)')\n",
    "plt.show();"
   ]
  },
  {
   "cell_type": "code",
   "execution_count": 116,
   "metadata": {
    "scrolled": true
   },
   "outputs": [
    {
     "name": "stdout",
     "output_type": "stream",
     "text": [
      "Training Data\n",
      "-------------------------\n",
      "Precision Score: 0.9376510391493476\n",
      "Recall Score: 0.949119373776908\n",
      "Accuracy Score: 0.9334190598656951\n",
      "F1 Score: 0.9433503525407245\n",
      "AUC: 0.9302450183896565\n",
      "\n",
      "\n",
      "Test Data\n",
      "-------------------------\n",
      "Precision Score: 0.8306962025316456\n",
      "Recall Score: 0.9943181818181818\n",
      "Accuracy Score: 0.8860103626943006\n",
      "F1 Score: 0.9051724137931034\n",
      "AUC: 0.874733461618473\n"
     ]
    }
   ],
   "source": [
    "# evaluation metrics for train data\n",
    "print_metrics_test(y_train,logmodel.predict(X_train),train_fpr_logmodel,train_tpr_logmodel,'Training Data')\n",
    "\n",
    "print('\\n')\n",
    "\n",
    "# evaluation metrics for test data\n",
    "print_metrics_test(y_test,logmodel.predict(X_test),test_fpr_logmodel,test_tpr_logmodel,'Test Data')"
   ]
  },
  {
   "cell_type": "markdown",
   "metadata": {},
   "source": [
    "# Decision Trees\n",
    "\n",
    "A decision tree is one of the supervised machine learning algorithms, this algorithm can be used for regression and classification problems — yet, is mostly used for classification problems. A decision tree follows a set of if-else conditions to visualize the data and classify it according to the conditions."
   ]
  },
  {
   "cell_type": "markdown",
   "metadata": {},
   "source": [
    "## GridSearchCV for Decision Trees"
   ]
  },
  {
   "cell_type": "code",
   "execution_count": 117,
   "metadata": {},
   "outputs": [],
   "source": [
    "clf = DecisionTreeClassifier(criterion='entropy',\n",
    "                                 max_depth=None,\n",
    "                                 min_samples_leaf=5,\n",
    "                                 min_samples_split=10)"
   ]
  },
  {
   "cell_type": "code",
   "execution_count": 118,
   "metadata": {},
   "outputs": [],
   "source": [
    "# dt_param_grid = {\n",
    "#     'criterion': ['gini', 'entropy'],\n",
    "#     'max_depth': [None, 2, 3, 4, 5, 6],\n",
    "#     'min_samples_split': [2, 5, 10],\n",
    "#     'min_samples_leaf': [1, 2, 3, 4, 5, 6]\n",
    "# }\n",
    "\n",
    "# # Instantiate GridSearchCV\n",
    "# clf = GridSearchCV(dt_clf, dt_param_grid, cv=3, return_train_score=True)\n",
    "\n",
    "# print(\"Best Parameter Combination Found During Grid Search:\")\n",
    "# clf.best_params_\n",
    "\n",
    "# # output\n",
    "# # {'criterion': 'entropy',\n",
    "# #  'max_depth': None,\n",
    "# #  'min_samples_leaf': 5,\n",
    "# #  'min_samples_split': 10}"
   ]
  },
  {
   "cell_type": "code",
   "execution_count": 119,
   "metadata": {},
   "outputs": [],
   "source": [
    "# Instantiate GridSearchCV\n",
    "clf = GridSearchCV(dt_clf, dt_param_grid, cv=3, return_train_score=True)\n",
    "\n",
    "# Fit to the data\n",
    "clf.fit(X_train, y_train)\n",
    "\n",
    "# predict class labels for samples in X_train\n",
    "y_hat_train = clf.predict(X_train)\n",
    "# predict class labels for samples in X_test\n",
    "y_hat_test = clf.predict(X_test)\n",
    "\n",
    "# roc curve - auc train\n",
    "train_fpr_clf, train_tpr_clf, train_thresholds_clf = roc_curve(y_train, y_hat_train)\n",
    "# roc curve - auc test\n",
    "test_fpr_clf, test_tpr_clf, test_thresholds_clf = roc_curve(y_test, y_hat_test)\n",
    "\n",
    "# append classification results\n",
    "clf_results = [clf.__class__,accuracy_score(y_test, y_hat_test),roc_auc_score(y_test, y_hat_test)]\n",
    "alg = alg.append([clf_results])"
   ]
  },
  {
   "cell_type": "code",
   "execution_count": 120,
   "metadata": {},
   "outputs": [
    {
     "name": "stdout",
     "output_type": "stream",
     "text": [
      "Best Parameter Combination Found During Grid Search:\n"
     ]
    },
    {
     "data": {
      "text/plain": [
       "{'criterion': 'entropy',\n",
       " 'max_depth': None,\n",
       " 'min_samples_leaf': 5,\n",
       " 'min_samples_split': 10}"
      ]
     },
     "execution_count": 120,
     "metadata": {},
     "output_type": "execute_result"
    }
   ],
   "source": [
    "print(\"Best Parameter Combination Found During Grid Search:\")\n",
    "clf.best_params_"
   ]
  },
  {
   "cell_type": "code",
   "execution_count": null,
   "metadata": {},
   "outputs": [],
   "source": [
    "## Decision Tree Visual\n",
    "# fig, axes = plt.subplots(nrows = 1,ncols = 1, figsize = (3,3), dpi=300)\n",
    "# tree.plot_tree(clf,\n",
    "#                feature_names = final_data.columns, \n",
    "#                class_names=np.unique(y).astype('str'),\n",
    "#                filled = True)\n",
    "# plt.show()"
   ]
  },
  {
   "cell_type": "code",
   "execution_count": 121,
   "metadata": {
    "scrolled": false
   },
   "outputs": [
    {
     "data": {
      "image/png": "[encoded data removed]",
      "text/plain": [
       "<Figure size 720x360 with 2 Axes>"
      ]
     },
     "metadata": {
      "needs_background": "light"
     },
     "output_type": "display_data"
    },
    {
     "data": {
      "image/png": "[encoded data removed]",
      "text/plain": [
       "<Figure size 720x360 with 2 Axes>"
      ]
     },
     "metadata": {
      "needs_background": "light"
     },
     "output_type": "display_data"
    }
   ],
   "source": [
    "# confusion matrix visualization for train data\n",
    "fig, ax = plt.subplots(figsize=(10,5))\n",
    "plot_confusion_matrix(clf, X_train, y_train,cmap=plt.cm.Blues,ax=ax)\n",
    "plt.title('Decision Tree (Train Data)')\n",
    "plt.show();\n",
    "\n",
    "# confusion matrix visualization for test data\n",
    "fig, ax = plt.subplots(figsize=(10,5))\n",
    "plot_confusion_matrix(clf, X_test, y_test,cmap=plt.cm.Blues,ax=ax)\n",
    "plt.title('Decision Tree (Test Data)')\n",
    "plt.show();"
   ]
  },
  {
   "cell_type": "code",
   "execution_count": 122,
   "metadata": {},
   "outputs": [
    {
     "name": "stdout",
     "output_type": "stream",
     "text": [
      "Training Data\n",
      "-------------------------\n",
      "Precision Score: 0.9649340959960209\n",
      "Recall Score: 0.949119373776908\n",
      "Accuracy Score: 0.9501357336762395\n",
      "F1 Score: 0.9569614009125663\n",
      "AUC: 0.9503412052670182\n",
      "\n",
      "\n",
      "Test Data\n",
      "-------------------------\n",
      "Precision Score: 0.7027417027417028\n",
      "Recall Score: 0.9223484848484849\n",
      "Accuracy Score: 0.7440414507772021\n",
      "F1 Score: 0.7977067977067979\n",
      "AUC: 0.7254763019208099\n"
     ]
    }
   ],
   "source": [
    "# evaluation metrics for train data\n",
    "print_metrics_test(y_train,clf.predict(X_train),train_fpr_clf,train_tpr_clf,'Training Data')\n",
    "\n",
    "print('\\n')\n",
    "\n",
    "# evaluation metrics for test data\n",
    "print_metrics_test(y_test,clf.predict(X_test),test_fpr_clf,test_tpr_clf,'Test Data')"
   ]
  },
  {
   "cell_type": "markdown",
   "metadata": {},
   "source": [
    "# Random Forest\n",
    "\n",
    "The Random Forest algorithm is a supervised learning algorithm that can be used both for classification and regression tasks. The random forest algorithm is an ensemble (algorithm that makes use of more than one model to make a prediction) of decision trees. \n",
    "\n",
    "An ensemble of trees using the same dataset will give us the same tree. To create high variance among all trees, we use bagging and subspace sampling method techniques increasing variability with each technique.\n",
    "* Bootstrap Aggregation (Bagging) - train trees using different samples of data by sampling with replacement\n",
    "* Subspace Sampling Method - randomly select subset of features to use as predictors for each node when training a decision tree, instead of using all predictors available at each node"
   ]
  },
  {
   "cell_type": "code",
   "execution_count": 123,
   "metadata": {},
   "outputs": [],
   "source": [
    "random_forest = RandomForestClassifier(n_estimators=100, max_depth= 5)\n",
    "\n",
    "# Fit the classifier\n",
    "random_forest.fit(X_train, y_train)\n",
    "\n",
    "# predict class labels for samples in X_train\n",
    "y_hat_train = random_forest.predict(X_train)\n",
    "# predict class labels for samples in X_test\n",
    "y_hat_test = random_forest.predict(X_test)\n",
    "\n",
    "# roc curve - auc train\n",
    "train_fpr_random_forest, train_tpr_random_forest, train_thresholds_random_forest = roc_curve(y_train, y_hat_train)\n",
    "# roc curve - auc test\n",
    "test_fpr_random_forest, test_tpr_random_forest, test_thresholds_random_forest = roc_curve(y_test, y_hat_test)\n",
    "\n",
    "# append classification results\n",
    "random_forest_results = [random_forest.__class__,accuracy_score(y_test, y_hat_test),roc_auc_score(y_test, y_hat_test)]\n",
    "alg = alg.append([random_forest_results])"
   ]
  },
  {
   "cell_type": "code",
   "execution_count": 124,
   "metadata": {},
   "outputs": [
    {
     "data": {
      "image/png": "[encoded data removed]",
      "text/plain": [
       "<Figure size 720x360 with 2 Axes>"
      ]
     },
     "metadata": {
      "needs_background": "light"
     },
     "output_type": "display_data"
    },
    {
     "data": {
      "image/png": "[encoded data removed]",
      "text/plain": [
       "<Figure size 720x360 with 2 Axes>"
      ]
     },
     "metadata": {
      "needs_background": "light"
     },
     "output_type": "display_data"
    }
   ],
   "source": [
    "# confusion matrix visualization for train data\n",
    "fig, ax = plt.subplots(figsize=(10,5))\n",
    "plot_confusion_matrix(random_forest, X_train, y_train,cmap=plt.cm.Blues,ax=ax)\n",
    "plt.title('Random Forest (Train Data)')\n",
    "plt.show();\n",
    "\n",
    "# confusion matrix visualization for test data\n",
    "fig, ax = plt.subplots(figsize=(10,5))\n",
    "plot_confusion_matrix(random_forest, X_test, y_test,cmap=plt.cm.Blues,ax=ax)\n",
    "plt.title('Random Forest (Test Data)')\n",
    "plt.show();"
   ]
  },
  {
   "cell_type": "code",
   "execution_count": 125,
   "metadata": {},
   "outputs": [
    {
     "name": "stdout",
     "output_type": "stream",
     "text": [
      "Training Data\n",
      "-------------------------\n",
      "Precision Score: 0.8527149321266968\n",
      "Recall Score: 0.9219667318982387\n",
      "Accuracy Score: 0.8614087726818117\n",
      "F1 Score: 0.885989656793606\n",
      "AUC: 0.8491661210161067\n",
      "\n",
      "\n",
      "Test Data\n",
      "-------------------------\n",
      "Precision Score: 0.6793692509855453\n",
      "Recall Score: 0.9791666666666666\n",
      "Accuracy Score: 0.7357512953367875\n",
      "F1 Score: 0.8021722265321954\n",
      "AUC: 0.7104071319603356\n"
     ]
    }
   ],
   "source": [
    "# evaluation metrics for train data\n",
    "print_metrics_test(y_train,random_forest.predict(X_train),train_fpr_random_forest,train_tpr_random_forest,'Training Data')\n",
    "\n",
    "print('\\n')\n",
    "\n",
    "# evaluation metrics for test data\n",
    "print_metrics_test(y_test,random_forest.predict(X_test),test_fpr_random_forest,test_tpr_random_forest,'Test Data')"
   ]
  },
  {
   "cell_type": "code",
   "execution_count": 126,
   "metadata": {},
   "outputs": [
    {
     "data": {
      "image/png": "[encoded data removed]",
      "text/plain": [
       "<Figure size 576x576 with 1 Axes>"
      ]
     },
     "metadata": {
      "needs_background": "light"
     },
     "output_type": "display_data"
    }
   ],
   "source": [
    "plot_feature_importances(random_forest,X_train)"
   ]
  },
  {
   "cell_type": "markdown",
   "metadata": {},
   "source": [
    "# K-Nearest Neighbors\n",
    "\n",
    "K-Nearest Neighbors is a supervised learning algorithm that can be used for both Classification and Regression tasks. A value is assigned a class which is most common among its K nearest neighbors, K being the number of neighbors. If K = 3, a value looks at the nearest 3 neighbors by calculating the distance between the value and class values."
   ]
  },
  {
   "cell_type": "code",
   "execution_count": 127,
   "metadata": {},
   "outputs": [],
   "source": [
    "# function to figure out the best number of for k-neighbors\n",
    "def find_best_k(X_train, y_train, X_test, y_test, min_k=1, max_k=25):\n",
    "    best_k = 0\n",
    "    best_score = 0.0\n",
    "    for k in range(min_k, max_k+1, 2):\n",
    "        knn = KNeighborsClassifier(n_neighbors=k)\n",
    "        knn.fit(X_train, y_train)\n",
    "        preds = knn.predict(X_test)\n",
    "        f1 = f1_score(y_test, preds)\n",
    "        if f1 > best_score:\n",
    "            best_k = k\n",
    "            best_score = f1\n",
    "    \n",
    "    print(\"Best Value for k: {}\".format(best_k))\n",
    "    print(\"F1-Score: {}\".format(best_score))"
   ]
  },
  {
   "cell_type": "code",
   "execution_count": 128,
   "metadata": {},
   "outputs": [
    {
     "name": "stdout",
     "output_type": "stream",
     "text": [
      "Best Value for k: 25\n",
      "F1-Score: 0.859038142620232\n"
     ]
    }
   ],
   "source": [
    "find_best_k(X_train, y_train, X_test, y_test)"
   ]
  },
  {
   "cell_type": "code",
   "execution_count": 129,
   "metadata": {},
   "outputs": [],
   "source": [
    "# Instantiate KNeighborsClassifier\n",
    "knn = KNeighborsClassifier(n_neighbors=25, metric='euclidean')\n",
    "\n",
    "# Fit the classifier\n",
    "knn.fit(X_train, y_train)\n",
    "\n",
    "# predict class labels for samples in X_train\n",
    "y_hat_train = knn.predict(X_train)\n",
    "# predict class labels for samples in X_test\n",
    "y_hat_test = knn.predict(X_test)\n",
    "\n",
    "# roc curve - auc train\n",
    "train_fpr_knn, train_tpr_knn, train_thresholds_knn = roc_curve(y_train, y_hat_train)\n",
    "# roc curve - auc test\n",
    "test_fpr_knn, test_tpr_knn, test_thresholds_knn = roc_curve(y_test, y_hat_test)\n",
    "\n",
    "# append classification results\n",
    "knn_results = [knn.__class__,accuracy_score(y_test, y_hat_test),roc_auc_score(y_test, y_hat_test)]\n",
    "alg = alg.append([knn_results])"
   ]
  },
  {
   "cell_type": "code",
   "execution_count": 130,
   "metadata": {},
   "outputs": [
    {
     "data": {
      "image/png": "[encoded data removed]",
      "text/plain": [
       "<Figure size 720x360 with 2 Axes>"
      ]
     },
     "metadata": {
      "needs_background": "light"
     },
     "output_type": "display_data"
    }
   ],
   "source": [
    "# confusion matrix visualization for test data\n",
    "fig, ax = plt.subplots(figsize=(10,5))\n",
    "plot_confusion_matrix(knn, X_test, y_test,cmap=plt.cm.Blues,ax=ax)\n",
    "plt.title('K-Nearest Neighbors (Test Data)')\n",
    "plt.show();"
   ]
  },
  {
   "cell_type": "code",
   "execution_count": 131,
   "metadata": {},
   "outputs": [
    {
     "name": "stdout",
     "output_type": "stream",
     "text": [
      "Training Data\n",
      "-------------------------\n",
      "Precision Score: 0.7640117994100295\n",
      "Recall Score: 0.9810606060606061\n",
      "Accuracy Score: 0.8238341968911918\n",
      "F1 Score: 0.859038142620232\n",
      "AUC: 0.807463941474239\n"
     ]
    }
   ],
   "source": [
    "# evaluation metrics for test data\n",
    "print_metrics_test(y_test,knn.predict(X_test),test_fpr_knn,test_tpr_knn,'Training Data')"
   ]
  },
  {
   "cell_type": "markdown",
   "metadata": {},
   "source": [
    "# XGBoost"
   ]
  },
  {
   "cell_type": "code",
   "execution_count": 132,
   "metadata": {},
   "outputs": [],
   "source": [
    "XGB = xgb.XGBClassifier(max_depth=7, n_estimators=200, colsample_bytree=0.8, \n",
    "                        subsample=0.8, nthread=10, learning_rate=0.1)\n",
    "# Fit the classifier\n",
    "XGB.fit(X_train, y_train)\n",
    "\n",
    "# predict class labels for samples in X_train\n",
    "y_hat_train = XGB.predict(X_train)\n",
    "# predict class labels for samples in X_test\n",
    "y_hat_test = XGB.predict(X_test)\n",
    "\n",
    "# roc curve - auc train\n",
    "train_fpr_XGB, train_tpr_XGB, train_thresholds_XGB = roc_curve(y_train, y_hat_train)\n",
    "# roc curve - auc test\n",
    "test_fpr_XGB, test_tpr_XGB, test_thresholds_XGB = roc_curve(y_test, y_hat_test)\n",
    "\n",
    "XGB_results = [XGB.__class__,accuracy_score(y_test, y_hat_test),roc_auc_score(y_test, y_hat_test)]\n",
    "alg = alg.append([XGB_results])"
   ]
  },
  {
   "cell_type": "code",
   "execution_count": 133,
   "metadata": {},
   "outputs": [
    {
     "data": {
      "image/png": "[encoded data removed]",
      "text/plain": [
       "<Figure size 720x360 with 2 Axes>"
      ]
     },
     "metadata": {
      "needs_background": "light"
     },
     "output_type": "display_data"
    },
    {
     "data": {
      "image/png": "[encoded data removed]",
      "text/plain": [
       "<Figure size 720x360 with 2 Axes>"
      ]
     },
     "metadata": {
      "needs_background": "light"
     },
     "output_type": "display_data"
    }
   ],
   "source": [
    "# confusion matrix visualization for train data\n",
    "fig, ax = plt.subplots(figsize=(10,5))\n",
    "plot_confusion_matrix(XGB, X_train, y_train,cmap=plt.cm.Blues,ax=ax)\n",
    "plt.title('XGB (Train Data)')\n",
    "plt.show();\n",
    "\n",
    "# confusion matrix visualization for test data\n",
    "fig, ax = plt.subplots(figsize=(10,5))\n",
    "plot_confusion_matrix(XGB, X_test, y_test,cmap=plt.cm.Blues,ax=ax)\n",
    "plt.title('XGB (Test Data)')\n",
    "plt.show();"
   ]
  },
  {
   "cell_type": "code",
   "execution_count": 134,
   "metadata": {},
   "outputs": [
    {
     "data": {
      "image/png": "[encoded data removed]",
      "text/plain": [
       "<Figure size 576x576 with 1 Axes>"
      ]
     },
     "metadata": {
      "needs_background": "light"
     },
     "output_type": "display_data"
    }
   ],
   "source": [
    "plot_feature_importances(XGB,X_train)"
   ]
  },
  {
   "cell_type": "code",
   "execution_count": 135,
   "metadata": {},
   "outputs": [
    {
     "name": "stdout",
     "output_type": "stream",
     "text": [
      "Training Data\n",
      "-------------------------\n",
      "Precision Score: 1.0\n",
      "Recall Score: 1.0\n",
      "Accuracy Score: 1.0\n",
      "F1 Score: 1.0\n",
      "AUC: 1.0\n",
      "\n",
      "\n",
      "Test Data\n",
      "-------------------------\n",
      "Precision Score: 0.7786032689450223\n",
      "Recall Score: 0.9924242424242424\n",
      "Accuracy Score: 0.8414507772020725\n",
      "F1 Score: 0.8726061615320565\n",
      "AUC: 0.8257315720130365\n"
     ]
    }
   ],
   "source": [
    "# evaluation metrics for train data\n",
    "print_metrics_test(y_train,XGB.predict(X_train),train_fpr_XGB,train_tpr_XGB,'Training Data')\n",
    "\n",
    "print('\\n')\n",
    "\n",
    "# evaluation metrics for test data\n",
    "print_metrics_test(y_test,XGB.predict(X_test),test_fpr_XGB,test_tpr_XGB,'Test Data')"
   ]
  },
  {
   "cell_type": "markdown",
   "metadata": {},
   "source": [
    "# Gradient Boosting"
   ]
  },
  {
   "cell_type": "code",
   "execution_count": 136,
   "metadata": {},
   "outputs": [],
   "source": [
    "gboost = GradientBoostingClassifier()\n",
    "\n",
    "# predict class labels for samples in X_test\n",
    "gboost.fit(X_train, y_train)\n",
    "\n",
    "# predict class labels for samples in X_train\n",
    "y_hat_train = gboost.predict(X_train)\n",
    "# predict class labels for samples in X_test\n",
    "y_hat_test = gboost.predict(X_test)\n",
    "\n",
    "# roc curve - auc train\n",
    "train_fpr_gboost, train_tpr_gboost, train_thresholds_gboost = roc_curve(y_train, y_hat_train)\n",
    "# roc curve - auc test\n",
    "test_fpr_gboost, test_tpr_gboost, test_thresholds_gboost = roc_curve(y_test, y_hat_test)\n",
    "\n",
    "# append classification results\n",
    "gboost_results = [gboost.__class__,accuracy_score(y_test, y_hat_test),roc_auc_score(y_test, y_hat_test)]\n",
    "alg = alg.append([gboost_results])"
   ]
  },
  {
   "cell_type": "code",
   "execution_count": 137,
   "metadata": {},
   "outputs": [
    {
     "data": {
      "image/png": "[encoded data removed]",
      "text/plain": [
       "<Figure size 720x360 with 2 Axes>"
      ]
     },
     "metadata": {
      "needs_background": "light"
     },
     "output_type": "display_data"
    },
    {
     "data": {
      "image/png": "[encoded data removed]",
      "text/plain": [
       "<Figure size 720x360 with 2 Axes>"
      ]
     },
     "metadata": {
      "needs_background": "light"
     },
     "output_type": "display_data"
    }
   ],
   "source": [
    "# confusion matrix visualization for train data\n",
    "fig, ax = plt.subplots(figsize=(10,5))\n",
    "plot_confusion_matrix(gboost, X_train, y_train,cmap=plt.cm.Blues,ax=ax)\n",
    "plt.title('Gradient Boosting (Train Data)')\n",
    "plt.show();\n",
    "\n",
    "# confusion matrix visualization for test data\n",
    "fig, ax = plt.subplots(figsize=(10,5))\n",
    "plot_confusion_matrix(gboost, X_test, y_test,cmap=plt.cm.Blues,ax=ax)\n",
    "plt.title('Gradient Boosting (Test Data)')\n",
    "plt.show();"
   ]
  },
  {
   "cell_type": "code",
   "execution_count": 138,
   "metadata": {},
   "outputs": [
    {
     "data": {
      "image/png": "[encoded data removed]",
      "text/plain": [
       "<Figure size 576x576 with 1 Axes>"
      ]
     },
     "metadata": {
      "needs_background": "light"
     },
     "output_type": "display_data"
    }
   ],
   "source": [
    "plot_feature_importances(gboost,X_train)"
   ]
  },
  {
   "cell_type": "code",
   "execution_count": 139,
   "metadata": {},
   "outputs": [
    {
     "name": "stdout",
     "output_type": "stream",
     "text": [
      "Training Data\n",
      "-------------------------\n",
      "Precision Score: 0.9402734468697529\n",
      "Recall Score: 0.958904109589041\n",
      "Accuracy Score: 0.9404200600085727\n",
      "F1 Score: 0.9494973961487222\n",
      "AUC: 0.9366832468247507\n",
      "\n",
      "\n",
      "Test Data\n",
      "-------------------------\n",
      "Precision Score: 0.7429378531073446\n",
      "Recall Score: 0.9962121212121212\n",
      "Accuracy Score: 0.8093264248704664\n",
      "F1 Score: 0.8511326860841424\n",
      "AUC: 0.7898680743360377\n"
     ]
    }
   ],
   "source": [
    "# evaluation metrics for train data\n",
    "print_metrics_test(y_train,gboost.predict(X_train),train_fpr_gboost,train_tpr_gboost,'Training Data')\n",
    "\n",
    "print('\\n')\n",
    "\n",
    "# evaluation metrics for test data\n",
    "print_metrics_test(y_test,gboost.predict(X_test),test_fpr_gboost,test_tpr_gboost,'Test Data')"
   ]
  },
  {
   "cell_type": "markdown",
   "metadata": {},
   "source": [
    "# LinearSVC"
   ]
  },
  {
   "cell_type": "code",
   "execution_count": 140,
   "metadata": {},
   "outputs": [],
   "source": [
    "# lclf = LinearSVC(random_state=0, tol=1e-5, max_iter=1000)\n",
    "lclf = svm.SVC()\n",
    "\n",
    "# predict class labels for samples in X_test\n",
    "lclf.fit(X_train, y_train)\n",
    "\n",
    "# predict class labels for samples in X_train\n",
    "y_hat_train = lclf.predict(X_train)\n",
    "# predict class labels for samples in X_test\n",
    "y_hat_test = lclf.predict(X_test)\n",
    "\n",
    "# roc curve - auc train\n",
    "train_fpr_lclf, train_tpr_lclf, train_thresholds_lclf = roc_curve(y_train, y_hat_train)\n",
    "# roc curve - auc test\n",
    "test_fpr_lclf, test_tpr_lclf, test_thresholds_lclf = roc_curve(y_test, y_hat_test)\n",
    "\n",
    "# append classification results\n",
    "lclf_results = [lclf.__class__,accuracy_score(y_test, y_hat_test),roc_auc_score(y_test, y_hat_test)]\n",
    "alg = alg.append([lclf_results])"
   ]
  },
  {
   "cell_type": "code",
   "execution_count": 145,
   "metadata": {},
   "outputs": [
    {
     "data": {
      "image/png": "[encoded data removed]",
      "text/plain": [
       "<Figure size 720x360 with 2 Axes>"
      ]
     },
     "metadata": {
      "needs_background": "light"
     },
     "output_type": "display_data"
    },
    {
     "data": {
      "image/png": "[encoded data removed]",
      "text/plain": [
       "<Figure size 720x360 with 2 Axes>"
      ]
     },
     "metadata": {
      "needs_background": "light"
     },
     "output_type": "display_data"
    }
   ],
   "source": [
    "# confusion matrix visualization for train data\n",
    "fig, ax = plt.subplots(figsize=(10,5))\n",
    "plot_confusion_matrix(lclf, X_train, y_train,cmap=plt.cm.Blues,ax=ax)\n",
    "plt.title('LinearSVC (Train Data)')\n",
    "plt.show();\n",
    "\n",
    "# confusion matrix visualization for test data\n",
    "fig, ax = plt.subplots(figsize=(10,5))\n",
    "plot_confusion_matrix(lclf, X_test, y_test,cmap=plt.cm.Blues,ax=ax)\n",
    "plt.title('LinearSVC (Test Data)')\n",
    "plt.savefig('images/LinearSVC_confusion_matrix_result.png')\n",
    "plt.show();"
   ]
  },
  {
   "cell_type": "code",
   "execution_count": 142,
   "metadata": {},
   "outputs": [
    {
     "name": "stdout",
     "output_type": "stream",
     "text": [
      "Training Data\n",
      "-------------------------\n",
      "Precision Score: 0.9507042253521126\n",
      "Recall Score: 0.9576810176125244\n",
      "Accuracy Score: 0.9462780397199599\n",
      "F1 Score: 0.9541798683889836\n",
      "AUC: 0.9439727657626346\n",
      "\n",
      "\n",
      "Test Data\n",
      "-------------------------\n",
      "Precision Score: 0.8238993710691824\n",
      "Recall Score: 0.9924242424242424\n",
      "Accuracy Score: 0.8797927461139896\n",
      "F1 Score: 0.9003436426116839\n",
      "AUC: 0.8680656681228763\n"
     ]
    }
   ],
   "source": [
    "# evaluation metrics for train data\n",
    "print_metrics_test(y_train,lclf.predict(X_train),train_fpr_lclf,train_tpr_lclf,'Training Data')\n",
    "\n",
    "print('\\n')\n",
    "\n",
    "# evaluation metrics for test data\n",
    "print_metrics_test(y_test,lclf.predict(X_test),test_fpr_lclf,test_tpr_lclf,'Test Data')"
   ]
  },
  {
   "cell_type": "markdown",
   "metadata": {},
   "source": [
    "# Model Evaluation"
   ]
  },
  {
   "cell_type": "code",
   "execution_count": 143,
   "metadata": {},
   "outputs": [
    {
     "data": {
      "text/html": [
       "<div>\n",
       "<style scoped>\n",
       "    .dataframe tbody tr th:only-of-type {\n",
       "        vertical-align: middle;\n",
       "    }\n",
       "\n",
       "    .dataframe tbody tr th {\n",
       "        vertical-align: top;\n",
       "    }\n",
       "\n",
       "    .dataframe thead th {\n",
       "        text-align: right;\n",
       "    }\n",
       "</style>\n",
       "<table border=\"1\" class=\"dataframe\">\n",
       "  <thead>\n",
       "    <tr style=\"text-align: right;\">\n",
       "      <th></th>\n",
       "      <th>model</th>\n",
       "      <th>accuracy_score</th>\n",
       "      <th>roc_auc_score</th>\n",
       "    </tr>\n",
       "  </thead>\n",
       "  <tbody>\n",
       "    <tr>\n",
       "      <th>0</th>\n",
       "      <td>&lt;class 'sklearn.linear_model._logistic.Logisti...</td>\n",
       "      <td>0.88601</td>\n",
       "      <td>0.87473</td>\n",
       "    </tr>\n",
       "    <tr>\n",
       "      <th>0</th>\n",
       "      <td>&lt;class 'sklearn.svm._classes.SVC'&gt;</td>\n",
       "      <td>0.87979</td>\n",
       "      <td>0.86807</td>\n",
       "    </tr>\n",
       "    <tr>\n",
       "      <th>0</th>\n",
       "      <td>&lt;class 'xgboost.sklearn.XGBClassifier'&gt;</td>\n",
       "      <td>0.84145</td>\n",
       "      <td>0.82573</td>\n",
       "    </tr>\n",
       "    <tr>\n",
       "      <th>0</th>\n",
       "      <td>&lt;class 'sklearn.neighbors._classification.KNei...</td>\n",
       "      <td>0.82383</td>\n",
       "      <td>0.80746</td>\n",
       "    </tr>\n",
       "    <tr>\n",
       "      <th>0</th>\n",
       "      <td>&lt;class 'sklearn.ensemble._gb.GradientBoostingC...</td>\n",
       "      <td>0.80933</td>\n",
       "      <td>0.78987</td>\n",
       "    </tr>\n",
       "    <tr>\n",
       "      <th>0</th>\n",
       "      <td>&lt;class 'sklearn.model_selection._search.GridSe...</td>\n",
       "      <td>0.74404</td>\n",
       "      <td>0.72548</td>\n",
       "    </tr>\n",
       "    <tr>\n",
       "      <th>0</th>\n",
       "      <td>&lt;class 'sklearn.ensemble._forest.RandomForestC...</td>\n",
       "      <td>0.73575</td>\n",
       "      <td>0.71041</td>\n",
       "    </tr>\n",
       "  </tbody>\n",
       "</table>\n",
       "</div>"
      ],
      "text/plain": [
       "                                               model  accuracy_score  \\\n",
       "0  <class 'sklearn.linear_model._logistic.Logisti...         0.88601   \n",
       "0                 <class 'sklearn.svm._classes.SVC'>         0.87979   \n",
       "0            <class 'xgboost.sklearn.XGBClassifier'>         0.84145   \n",
       "0  <class 'sklearn.neighbors._classification.KNei...         0.82383   \n",
       "0  <class 'sklearn.ensemble._gb.GradientBoostingC...         0.80933   \n",
       "0  <class 'sklearn.model_selection._search.GridSe...         0.74404   \n",
       "0  <class 'sklearn.ensemble._forest.RandomForestC...         0.73575   \n",
       "\n",
       "   roc_auc_score  \n",
       "0        0.87473  \n",
       "0        0.86807  \n",
       "0        0.82573  \n",
       "0        0.80746  \n",
       "0        0.78987  \n",
       "0        0.72548  \n",
       "0        0.71041  "
      ]
     },
     "execution_count": 143,
     "metadata": {},
     "output_type": "execute_result"
    }
   ],
   "source": [
    "alg = alg.rename({0:'model',1:'accuracy_score', 2:'roc_auc_score'},axis=1).sort_values(by='accuracy_score', ascending=False)\n",
    "alg"
   ]
  },
  {
   "cell_type": "code",
   "execution_count": 146,
   "metadata": {},
   "outputs": [
    {
     "data": {
      "image/png": "[encoded data removed]",
      "text/plain": [
       "<Figure size 720x576 with 1 Axes>"
      ]
     },
     "metadata": {
      "needs_background": "light"
     },
     "output_type": "display_data"
    }
   ],
   "source": [
    "# model plots\n",
    "plt.figure(figsize=(10,8))\n",
    "lw = 2\n",
    "\n",
    "plt.plot(test_fpr_logmodel, test_tpr_logmodel, color='yellow',lw=lw, label='Logistic Regression')\n",
    "plt.plot(test_fpr_clf, test_tpr_clf, color='green',lw=lw, label='Decision Trees')\n",
    "plt.plot(test_fpr_random_forest, test_tpr_random_forest, color='red',lw=lw, label='Random Forest')\n",
    "plt.plot(test_fpr_knn, test_tpr_knn, color='blue',lw=lw, label='K-Nearest Neighbors')\n",
    "plt.plot(test_fpr_XGB, test_tpr_XGB, color='orange',lw=lw, label='XGBoost')\n",
    "plt.plot(test_fpr_gboost, test_tpr_gboost, color='brown',lw=lw, label='Gradient Boosting')\n",
    "plt.plot(test_fpr_lclf, test_tpr_lclf, color='pink',lw=lw, label='SVM')\n",
    "\n",
    "# Formatting\n",
    "plt.plot([0, 1], [0, 1], color='navy', lw=lw, linestyle='--')\n",
    "plt.xlim([0.0, 1.0])\n",
    "plt.ylim([0.0, 1.05])\n",
    "plt.yticks([i/20.0 for i in range(21)])\n",
    "plt.xticks([i/20.0 for i in range(21)])\n",
    "plt.xlabel('False Positive Rate')\n",
    "plt.ylabel('True Positive Rate')\n",
    "plt.title('Receiver operating characteristic (ROC) Curve (Test Data)')\n",
    "plt.legend(loc=\"lower right\")\n",
    "plt.savefig('images/ROC_curve.png')\n",
    "plt.show()"
   ]
  },
  {
   "cell_type": "markdown",
   "metadata": {},
   "source": [
    "# Conclusion"
   ]
  },
  {
   "cell_type": "markdown",
   "metadata": {},
   "source": [
    "Based on the accuracy of all the models, the one with the highest accuracy is Logistic Regression with an accuracy of 82% based on test data. We trained the data using 2004-2018 historical data and tested the first 66 nba games of the 2019 season.\n",
    "\n",
    "When it comes to NBA basketball games, there is something called an upset which mean there can be cases where a team can do really well but can still lose the game and upsets do happen frequently. The model does not take care of upsets which can be difficult but with an accuracy of 82%, I would consider that a fair accuracy rate."
   ]
  },
  {
   "cell_type": "markdown",
   "metadata": {},
   "source": [
    "## Future Iterations"
   ]
  },
  {
   "cell_type": "markdown",
   "metadata": {},
   "source": [
    "I eventually want to predict NBA games based on the spread. When it comes to spread, different features will be needed to predict games. Because the test data I provided already has the game stats, in a real time basketball game, the performance and stats of the game has not been played out yet. The data will need to be based on only the historical data."
   ]
  }
 ],
 "metadata": {
  "kernelspec": {
   "display_name": "Python [conda env:learn-env] *",
   "language": "python",
   "name": "conda-env-learn-env-py"
  },
  "language_info": {
   "codemirror_mode": {
    "name": "ipython",
    "version": 3
   },
   "file_extension": ".py",
   "mimetype": "text/x-python",
   "name": "python",
   "nbconvert_exporter": "python",
   "pygments_lexer": "ipython3",
   "version": "3.6.9"
  }
 },
 "nbformat": 4,
 "nbformat_minor": 2
}
